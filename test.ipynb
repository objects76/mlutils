{
 "cells": [
  {
   "cell_type": "code",
   "execution_count": 1,
   "metadata": {},
   "outputs": [],
   "source": [
    "%reload_ext autoreload\n",
    "%autoreload 2\n",
    "%matplotlib inline\n",
    "if '__file__' not in globals(): __file__, __name__ = globals()['__vsc_ipynb_file__'], '__ipynb__'\n",
    "\n",
    "import sys, os\n",
    "if os.path.abspath('.') not in sys.path: sys.path.append(os.path.abspath('.'))\n",
    "\n",
    "from pathlib import Path\n",
    "from pprint import pprint\n",
    "from tqdm import tqdm\n",
    "import numpy as np; np.set_printoptions(precision=8, suppress=True)\n",
    "import inspect; funcname = lambda: inspect.stack()[1].function\n",
    "\n"
   ]
  },
  {
   "cell_type": "code",
   "execution_count": 11,
   "metadata": {},
   "outputs": [
    {
     "name": "stdout",
     "output_type": "stream",
     "text": [
      "Inside DerivedClass constructor.\n",
      "Creating an instance of , which is derived from BaseClass.\n"
     ]
    }
   ],
   "source": [
    "class BaseClass:\n",
    "    def __init__(self):\n",
    "        class_name = self.__class__.__name__\n",
    "        print(f\"Inside {class_name} constructor.\")\n",
    "\n",
    "        cls = self.__class__\n",
    "        base_class = cls.__bases__[0].__name__ if cls.__bases__ else \"object\"\n",
    "        print(f\"Creating an instance of , which is derived from {base_class}.\")\n",
    "\n",
    "class DerivedClass(BaseClass):\n",
    "    def __init__(self):\n",
    "        super().__init__()\n",
    "\n",
    "# Create an instance of the BaseClass and DerivedClass\n",
    "# base_obj = BaseClass()\n",
    "derived_obj = DerivedClass()\n"
   ]
  },
  {
   "cell_type": "code",
   "execution_count": 7,
   "metadata": {},
   "outputs": [
    {
     "name": "stdout",
     "output_type": "stream",
     "text": [
      "Creating an instance of DerivedClass, which is derived from BaseClass.\n"
     ]
    }
   ],
   "source": [
    "class BaseClass:\n",
    "    def __new__(cls, *args, **kwargs):\n",
    "        derived_class = cls.__name__\n",
    "        base_class = cls.__bases__[0].__name__ if cls.__bases__ else \"object\"\n",
    "        print(f\"Creating an instance of {derived_class}, which is derived from {base_class}.\")\n",
    "        return super(BaseClass, cls).__new__(cls)\n",
    "\n",
    "class DerivedClass(BaseClass):\n",
    "    def __init__(self):\n",
    "        super().__init__()\n",
    "\n",
    "# Create an instance of the DerivedClass\n",
    "derived_obj = DerivedClass()\n"
   ]
  },
  {
   "cell_type": "code",
   "execution_count": 24,
   "metadata": {},
   "outputs": [
    {
     "name": "stdout",
     "output_type": "stream",
     "text": [
      "\u001b[33m test|1234 \u001b[0mEOL\n",
      "--"
     ]
    }
   ],
   "source": [
    "import io\n",
    "def log(*args, clr=None, **kwargs):\n",
    "    # clr = kwargs.pop('clr', None)\n",
    "    end = kwargs.pop('end', '\\n')\n",
    "\n",
    "    buf = io.StringIO()\n",
    "    print(*args, **kwargs, end='', file=buf)\n",
    "    message =  buf.getvalue().replace('\\n', '\\n -- ')\n",
    "    buf.close()\n",
    "\n",
    "    if clr is None:\n",
    "        print(message, end=end)\n",
    "    else:\n",
    "        print(clr, message, RESET, end=end)\n",
    "\n",
    "\n",
    "GRAY, RED, GREEN, YELLOW, RESET = '\\33[30m', '\\33[31m', '\\33[32m', '\\33[33m', '\\33[0m' # logging colors\n",
    "\n",
    "\n",
    "log('test', '1234', sep = '|', clr=YELLOW, end='EOL\\n--')"
   ]
  }
 ],
 "metadata": {
  "kernelspec": {
   "display_name": "stock1",
   "language": "python",
   "name": "python3"
  },
  "language_info": {
   "codemirror_mode": {
    "name": "ipython",
    "version": 3
   },
   "file_extension": ".py",
   "mimetype": "text/x-python",
   "name": "python",
   "nbconvert_exporter": "python",
   "pygments_lexer": "ipython3",
   "version": "3.10.12"
  },
  "orig_nbformat": 4
 },
 "nbformat": 4,
 "nbformat_minor": 2
}
